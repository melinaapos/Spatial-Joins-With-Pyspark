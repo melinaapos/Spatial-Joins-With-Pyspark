{
  "nbformat": 4,
  "nbformat_minor": 0,
  "metadata": {
    "colab": {
      "provenance": []
    },
    "kernelspec": {
      "name": "python3",
      "display_name": "Python 3"
    },
    "language_info": {
      "name": "python"
    }
  },
  "cells": [
    {
      "cell_type": "markdown",
      "source": [
        "# Spatial Joins With Pyspark"
      ],
      "metadata": {
        "id": "GaE2aAqoMwgc"
      }
    },
    {
      "cell_type": "markdown",
      "source": [
        "## Installations for Pyspark"
      ],
      "metadata": {
        "id": "0jdd7WsQjdjP"
      }
    },
    {
      "cell_type": "code",
      "execution_count": 1,
      "metadata": {
        "colab": {
          "base_uri": "https://localhost:8080/"
        },
        "id": "xLMtvf5b5OXN",
        "outputId": "2404d516-9a68-4459-c5d8-0a37760dd2da"
      },
      "outputs": [
        {
          "output_type": "stream",
          "name": "stdout",
          "text": [
            "\u001b[33m\r0% [Working]\u001b[0m\r            \rHit:1 http://archive.ubuntu.com/ubuntu jammy InRelease\n",
            "\u001b[33m\r0% [Waiting for headers] [Waiting for headers] [Connected to cloud.r-project.or\u001b[0m\r                                                                               \rHit:2 http://archive.ubuntu.com/ubuntu jammy-updates InRelease\n",
            "\r                                                                               \rHit:3 http://security.ubuntu.com/ubuntu jammy-security InRelease\n",
            "\r                                                                               \rHit:4 https://cloud.r-project.org/bin/linux/ubuntu jammy-cran40/ InRelease\n",
            "\u001b[33m\r0% [Waiting for headers] [Connecting to ppa.launchpadcontent.net (185.125.190.8\u001b[0m\r                                                                               \rHit:5 http://archive.ubuntu.com/ubuntu jammy-backports InRelease\n",
            "Hit:6 https://developer.download.nvidia.com/compute/cuda/repos/ubuntu2204/x86_64  InRelease\n",
            "Hit:7 https://ppa.launchpadcontent.net/c2d4u.team/c2d4u4.0+/ubuntu jammy InRelease\n",
            "Hit:8 https://ppa.launchpadcontent.net/deadsnakes/ppa/ubuntu jammy InRelease\n",
            "Hit:9 https://ppa.launchpadcontent.net/graphics-drivers/ppa/ubuntu jammy InRelease\n",
            "Hit:10 https://ppa.launchpadcontent.net/ubuntugis/ppa/ubuntu jammy InRelease\n",
            "Reading package lists... Done\n",
            "Building dependency tree... Done\n",
            "Reading state information... Done\n",
            "45 packages can be upgraded. Run 'apt list --upgradable' to see them.\n",
            "tar: spark-3.2.1-bin-hadoop3.2.tgz: Cannot open: No such file or directory\n",
            "tar: Error is not recoverable: exiting now\n",
            "Requirement already satisfied: pyspark in /usr/local/lib/python3.10/dist-packages (3.5.1)\n",
            "Requirement already satisfied: py4j==0.10.9.7 in /usr/local/lib/python3.10/dist-packages (from pyspark) (0.10.9.7)\n",
            "Requirement already satisfied: py4j in /usr/local/lib/python3.10/dist-packages (0.10.9.7)\n"
          ]
        }
      ],
      "source": [
        "!sudo apt update\n",
        "!apt-get install openjdk-8-jdk-headless -qq > /dev/null\n",
        "!wget -q https://dlcdn.apache.org/spark/spark-3.2.1/spark-3.2.1-bin-hadoop3.2.tgz\n",
        "!tar xf spark-3.2.1-bin-hadoop3.2.tgz\n",
        "!pip install -q findspark\n",
        "!pip install pyspark\n",
        "!pip install py4j"
      ]
    },
    {
      "cell_type": "code",
      "source": [
        "import os\n",
        "import sys\n",
        "\n",
        "import findspark\n",
        "findspark.init()\n",
        "findspark.find()"
      ],
      "metadata": {
        "colab": {
          "base_uri": "https://localhost:8080/",
          "height": 36
        },
        "id": "97wGUagm5TwI",
        "outputId": "d65ae044-ad7b-4af7-ebc1-a28deff001cf"
      },
      "execution_count": 2,
      "outputs": [
        {
          "output_type": "execute_result",
          "data": {
            "text/plain": [
              "'/usr/local/lib/python3.10/dist-packages/pyspark'"
            ],
            "application/vnd.google.colaboratory.intrinsic+json": {
              "type": "string"
            }
          },
          "metadata": {},
          "execution_count": 2
        }
      ]
    },
    {
      "cell_type": "markdown",
      "source": [
        "## Install Haversine"
      ],
      "metadata": {
        "id": "ATTmxvZcqiEY"
      }
    },
    {
      "cell_type": "code",
      "source": [
        "pip install haversine"
      ],
      "metadata": {
        "colab": {
          "base_uri": "https://localhost:8080/"
        },
        "id": "Ar_q69t4qc8a",
        "outputId": "40e74434-f358-47b8-a559-ef56394a4ae3"
      },
      "execution_count": 3,
      "outputs": [
        {
          "output_type": "stream",
          "name": "stdout",
          "text": [
            "Requirement already satisfied: haversine in /usr/local/lib/python3.10/dist-packages (2.8.1)\n"
          ]
        }
      ]
    },
    {
      "cell_type": "markdown",
      "source": [
        "## Imports"
      ],
      "metadata": {
        "id": "bB3qyQLUqpKr"
      }
    },
    {
      "cell_type": "code",
      "source": [
        "from pyspark.sql import SparkSession"
      ],
      "metadata": {
        "id": "FuRawaa25XHK"
      },
      "execution_count": 4,
      "outputs": []
    },
    {
      "cell_type": "code",
      "source": [
        "from pyspark.sql.types import StructType, StructField, DoubleType, StringType"
      ],
      "metadata": {
        "id": "wX7EmLxSl1B9"
      },
      "execution_count": 5,
      "outputs": []
    },
    {
      "cell_type": "code",
      "source": [
        "from pyspark.sql.functions import col"
      ],
      "metadata": {
        "id": "rRkzxy12GImh"
      },
      "execution_count": 6,
      "outputs": []
    },
    {
      "cell_type": "code",
      "source": [
        "from haversine import haversine"
      ],
      "metadata": {
        "id": "0UTUWCaDqOhD"
      },
      "execution_count": 7,
      "outputs": []
    },
    {
      "cell_type": "markdown",
      "source": [
        "## Create SparkSession"
      ],
      "metadata": {
        "id": "t4RWIiSRGDLt"
      }
    },
    {
      "cell_type": "code",
      "source": [
        "spark = SparkSession.builder.appName('PysparkRestHotels').getOrCreate()"
      ],
      "metadata": {
        "id": "t6esmP7L5ZDy"
      },
      "execution_count": 8,
      "outputs": []
    },
    {
      "cell_type": "markdown",
      "source": [
        "## Read datasets"
      ],
      "metadata": {
        "id": "mSaR__p2qtSo"
      }
    },
    {
      "cell_type": "code",
      "source": [
        "restaurants_schema = StructType(fields=[StructField('_c0', StringType(), False),\n",
        "                                        StructField('_c1', StringType(), True),\n",
        "                                        StructField('_c2', StringType(), True),\n",
        "                                        StructField('_c3', DoubleType(), True),\n",
        "                                        StructField('_c4', DoubleType(), True),\n",
        "                                        StructField('_c5', StringType(), True)\n",
        "])"
      ],
      "metadata": {
        "id": "ZPe4UN6DlmjI"
      },
      "execution_count": 9,
      "outputs": []
    },
    {
      "cell_type": "code",
      "source": [
        "hotels_schema = StructType(fields=[StructField('_c0', StringType(), False),\n",
        "                                        StructField('_c1', StringType(), True),\n",
        "                                        StructField('_c2', StringType(), True),\n",
        "                                        StructField('_c3', StringType(), True),\n",
        "                                        StructField('_c4', DoubleType(), True),\n",
        "                                        StructField('_c5', DoubleType(), True),\n",
        "                                        StructField('_c6', StringType(), True)\n",
        "])"
      ],
      "metadata": {
        "id": "LcjbzxELp6w2"
      },
      "execution_count": 10,
      "outputs": []
    },
    {
      "cell_type": "code",
      "source": [
        "restaurants_df = spark.read \\\n",
        ".schema(restaurants_schema) \\\n",
        ".option('delimiter', '|') \\\n",
        ".csv('restaurants-ver1.txt')"
      ],
      "metadata": {
        "id": "mXLDCIms-ttj"
      },
      "execution_count": 11,
      "outputs": []
    },
    {
      "cell_type": "code",
      "source": [
        "restaurants_df.show(2)"
      ],
      "metadata": {
        "colab": {
          "base_uri": "https://localhost:8080/"
        },
        "id": "CH6yBHl_Plb-",
        "outputId": "b43965e0-e918-404b-ede0-8ac143272a2e"
      },
      "execution_count": 12,
      "outputs": [
        {
          "output_type": "stream",
          "name": "stdout",
          "text": [
            "+---+-------------------+---+-----------+-----------------+--------------------+\n",
            "|_c0|                _c1|_c2|        _c3|              _c4|                 _c5|\n",
            "+---+-------------------+---+-----------+-----------------+--------------------+\n",
            "|  1|Daphne's Greek Cafe|3.5|34.19198813|      -118.937563|Greek, Mediterran...|\n",
            "|  2|Daphne's Greek Cafe|2.5|  37.755557|-122.250360846519|Greek, Mediterranean|\n",
            "+---+-------------------+---+-----------+-----------------+--------------------+\n",
            "only showing top 2 rows\n",
            "\n"
          ]
        }
      ]
    },
    {
      "cell_type": "code",
      "source": [
        "restaurants_df.printSchema()"
      ],
      "metadata": {
        "colab": {
          "base_uri": "https://localhost:8080/"
        },
        "id": "FXSBbEmXPrbg",
        "outputId": "bee3680a-473b-480d-b95f-58699668d3c3"
      },
      "execution_count": 13,
      "outputs": [
        {
          "output_type": "stream",
          "name": "stdout",
          "text": [
            "root\n",
            " |-- _c0: string (nullable = true)\n",
            " |-- _c1: string (nullable = true)\n",
            " |-- _c2: string (nullable = true)\n",
            " |-- _c3: double (nullable = true)\n",
            " |-- _c4: double (nullable = true)\n",
            " |-- _c5: string (nullable = true)\n",
            "\n"
          ]
        }
      ]
    },
    {
      "cell_type": "code",
      "source": [
        "restaurants_df.count()"
      ],
      "metadata": {
        "colab": {
          "base_uri": "https://localhost:8080/"
        },
        "id": "ygA78D9lHjKc",
        "outputId": "a875ee57-0718-48db-b120-3be914aec19a"
      },
      "execution_count": 14,
      "outputs": [
        {
          "output_type": "execute_result",
          "data": {
            "text/plain": [
              "78981"
            ]
          },
          "metadata": {},
          "execution_count": 14
        }
      ]
    },
    {
      "cell_type": "code",
      "source": [
        "hotels_df = spark.read \\\n",
        ".schema(hotels_schema) \\\n",
        ".option('delimiter', '|') \\\n",
        ".csv('hotels-ver1.txt')"
      ],
      "metadata": {
        "id": "W7xwPEd-lj6T"
      },
      "execution_count": 15,
      "outputs": []
    },
    {
      "cell_type": "code",
      "source": [
        "hotels_df.show(2)"
      ],
      "metadata": {
        "colab": {
          "base_uri": "https://localhost:8080/"
        },
        "id": "dFTZESG-qEAz",
        "outputId": "04b72a97-5829-46f2-8b62-3eb9783febfb"
      },
      "execution_count": 16,
      "outputs": [
        {
          "output_type": "stream",
          "name": "stdout",
          "text": [
            "+---+--------------------+---+---+---------+-----------+--------------------+\n",
            "|_c0|                 _c1|_c2|_c3|      _c4|        _c5|                 _c6|\n",
            "+---+--------------------+---+---+---------+-----------+--------------------+\n",
            "|  1|AAE S.F. European...| 50| 20|37.776181|-122.413414|laundry_service,c...|\n",
            "|  2|Ambassador Motor ...|188| 27|38.959716|-119.945595|cable_tv,secretar...|\n",
            "+---+--------------------+---+---+---------+-----------+--------------------+\n",
            "only showing top 2 rows\n",
            "\n"
          ]
        }
      ]
    },
    {
      "cell_type": "code",
      "source": [
        "hotels_df.printSchema()"
      ],
      "metadata": {
        "colab": {
          "base_uri": "https://localhost:8080/"
        },
        "id": "EgxGoGGoqHYt",
        "outputId": "e11b1dea-526c-4289-fa82-d07aac26159a"
      },
      "execution_count": 17,
      "outputs": [
        {
          "output_type": "stream",
          "name": "stdout",
          "text": [
            "root\n",
            " |-- _c0: string (nullable = true)\n",
            " |-- _c1: string (nullable = true)\n",
            " |-- _c2: string (nullable = true)\n",
            " |-- _c3: string (nullable = true)\n",
            " |-- _c4: double (nullable = true)\n",
            " |-- _c5: double (nullable = true)\n",
            " |-- _c6: string (nullable = true)\n",
            "\n"
          ]
        }
      ]
    },
    {
      "cell_type": "code",
      "source": [
        "hotels_df.count()"
      ],
      "metadata": {
        "colab": {
          "base_uri": "https://localhost:8080/"
        },
        "id": "wBZ0UroiHpv9",
        "outputId": "1b13c9f4-425a-442d-d998-f2baccfa9143"
      },
      "execution_count": 18,
      "outputs": [
        {
          "output_type": "execute_result",
          "data": {
            "text/plain": [
              "25463"
            ]
          },
          "metadata": {},
          "execution_count": 18
        }
      ]
    },
    {
      "cell_type": "markdown",
      "source": [
        "## Select, Rename Columns and Add New Column"
      ],
      "metadata": {
        "id": "wO_hsVy_q14j"
      }
    },
    {
      "cell_type": "code",
      "source": [
        "restaurants_selected_df = restaurants_df.select(col('_c0'), col('_c1'), col('_c3'), col('_c4')) \\\n",
        "                                        .withColumnRenamed('_c0', 'Restaurant_Id') \\\n",
        "                                        .withColumnRenamed('_c1', 'Restaurant_name') \\\n",
        "                                        .withColumnRenamed('_c3', 'Restaurant_latitude') \\\n",
        "                                        .withColumnRenamed('_c4', 'Restaurant_longitude') \\\n",
        "                                        .withColumn('Restaurant_latitude_int', col('Restaurant_latitude').cast('int'))"
      ],
      "metadata": {
        "id": "MxMRyN4PqL7_"
      },
      "execution_count": 19,
      "outputs": []
    },
    {
      "cell_type": "code",
      "source": [
        "restaurants_selected_df.show(2)"
      ],
      "metadata": {
        "colab": {
          "base_uri": "https://localhost:8080/"
        },
        "id": "S7DvYSljtsX3",
        "outputId": "9769d151-73dd-4611-ca7c-c3443f6e95eb"
      },
      "execution_count": 20,
      "outputs": [
        {
          "output_type": "stream",
          "name": "stdout",
          "text": [
            "+-------------+-------------------+-------------------+--------------------+-----------------------+\n",
            "|Restaurant_Id|    Restaurant_name|Restaurant_latitude|Restaurant_longitude|Restaurant_latitude_int|\n",
            "+-------------+-------------------+-------------------+--------------------+-----------------------+\n",
            "|            1|Daphne's Greek Cafe|        34.19198813|         -118.937563|                     34|\n",
            "|            2|Daphne's Greek Cafe|          37.755557|   -122.250360846519|                     37|\n",
            "+-------------+-------------------+-------------------+--------------------+-----------------------+\n",
            "only showing top 2 rows\n",
            "\n"
          ]
        }
      ]
    },
    {
      "cell_type": "code",
      "source": [
        "hotels_selected_df = hotels_df.select(col('_c0'), col('_c1'), col('_c4'), col('_c5')) \\\n",
        "                              .withColumnRenamed('_c0', 'Hotel_Id') \\\n",
        "                              .withColumnRenamed('_c1', 'Hotel_name') \\\n",
        "                              .withColumnRenamed('_c4', 'Hotel_latitude') \\\n",
        "                              .withColumnRenamed('_c5', 'Hotel_longitude') \\\n",
        "                              .withColumn('Hotel_latitude_int', col('Hotel_latitude').cast('int'))"
      ],
      "metadata": {
        "id": "NDjP7010twZ-"
      },
      "execution_count": 21,
      "outputs": []
    },
    {
      "cell_type": "code",
      "source": [
        "hotels_selected_df.show(2)"
      ],
      "metadata": {
        "colab": {
          "base_uri": "https://localhost:8080/"
        },
        "id": "q2_vRMc4uUdL",
        "outputId": "522f6fa7-8785-4cf4-dacb-b6ee93e62481"
      },
      "execution_count": 22,
      "outputs": [
        {
          "output_type": "stream",
          "name": "stdout",
          "text": [
            "+--------+--------------------+--------------+---------------+------------------+\n",
            "|Hotel_Id|          Hotel_name|Hotel_latitude|Hotel_longitude|Hotel_latitude_int|\n",
            "+--------+--------------------+--------------+---------------+------------------+\n",
            "|       1|AAE S.F. European...|     37.776181|    -122.413414|                37|\n",
            "|       2|Ambassador Motor ...|     38.959716|    -119.945595|                38|\n",
            "+--------+--------------------+--------------+---------------+------------------+\n",
            "only showing top 2 rows\n",
            "\n"
          ]
        }
      ]
    },
    {
      "cell_type": "markdown",
      "source": [
        "## Sort the two Dataframes By Latitude\n",
        "Sort the two dataframes by latitude (default is ascending)"
      ],
      "metadata": {
        "id": "76RkQB1SOl8J"
      }
    },
    {
      "cell_type": "code",
      "source": [
        "restaurants_sorted_df = restaurants_selected_df.orderBy('Restaurant_latitude').cache()"
      ],
      "metadata": {
        "id": "EjFAH3pWQP7t"
      },
      "execution_count": 23,
      "outputs": []
    },
    {
      "cell_type": "code",
      "source": [
        "hotels_sorted_df = hotels_selected_df.orderBy('Hotel_latitude').cache()"
      ],
      "metadata": {
        "id": "QAXK_rQLRfRs"
      },
      "execution_count": 24,
      "outputs": []
    },
    {
      "cell_type": "markdown",
      "source": [
        "## Create New Dataframes Partitioned by Range"
      ],
      "metadata": {
        "id": "PTNYzj5GS9Rb"
      }
    },
    {
      "cell_type": "code",
      "source": [
        "restaurants_repartitioned_df = restaurants_sorted_df.repartitionByRange(4, col('Restaurant_latitude'))"
      ],
      "metadata": {
        "id": "EvYBiTcHR2S6"
      },
      "execution_count": 25,
      "outputs": []
    },
    {
      "cell_type": "code",
      "source": [
        "hotels_repartitioned_df = hotels_sorted_df.repartitionByRange(4, col('Hotel_latitude'))"
      ],
      "metadata": {
        "id": "nsHKXY9UTxq2"
      },
      "execution_count": 26,
      "outputs": []
    },
    {
      "cell_type": "code",
      "source": [
        "print('print the length of each partition for restaurants partitions')\n",
        "rdd_rests = restaurants_repartitioned_df.rdd\n",
        "print(rdd_rests.glom().map(len).collect())"
      ],
      "metadata": {
        "colab": {
          "base_uri": "https://localhost:8080/"
        },
        "id": "KDNAqhrJPOcB",
        "outputId": "081e9445-7e5f-4e57-e2e0-e4791e017bfa"
      },
      "execution_count": 27,
      "outputs": [
        {
          "output_type": "stream",
          "name": "stdout",
          "text": [
            "print the length of each partition for restaurants partitions\n",
            "[19798, 19683, 19669, 19831]\n"
          ]
        }
      ]
    },
    {
      "cell_type": "code",
      "source": [
        "print('print the length of each partition for hotels partitions')\n",
        "rdd_hotels = hotels_repartitioned_df.rdd\n",
        "print(rdd_hotels.glom().map(len).collect())"
      ],
      "metadata": {
        "colab": {
          "base_uri": "https://localhost:8080/"
        },
        "id": "l2lGDsEpPcoP",
        "outputId": "e1c32d4b-b68b-4236-f423-2950691c95a4"
      },
      "execution_count": 28,
      "outputs": [
        {
          "output_type": "stream",
          "name": "stdout",
          "text": [
            "print the length of each partition for hotels partitions\n",
            "[6351, 6365, 6377, 6370]\n"
          ]
        }
      ]
    },
    {
      "cell_type": "markdown",
      "source": [
        "## Join"
      ],
      "metadata": {
        "id": "CRVp3wsYUk3y"
      }
    },
    {
      "cell_type": "code",
      "source": [
        "joined_df = restaurants_repartitioned_df.join(hotels_repartitioned_df,\n",
        "                                              restaurants_repartitioned_df['Restaurant_latitude_int'] == hotels_repartitioned_df['Hotel_latitude_int'],\n",
        "                                              'full')"
      ],
      "metadata": {
        "id": "SIZyCnuyUmGk"
      },
      "execution_count": 29,
      "outputs": []
    },
    {
      "cell_type": "code",
      "source": [
        "joined_df.show()"
      ],
      "metadata": {
        "colab": {
          "base_uri": "https://localhost:8080/"
        },
        "id": "JsbIRawXVh-S",
        "outputId": "d996e2ce-49f2-414e-bb66-dcee50ac9d05"
      },
      "execution_count": 30,
      "outputs": [
        {
          "output_type": "stream",
          "name": "stdout",
          "text": [
            "+-------------+--------------------+-------------------+--------------------+-----------------------+--------+--------------------+--------------+---------------+------------------+\n",
            "|Restaurant_Id|     Restaurant_name|Restaurant_latitude|Restaurant_longitude|Restaurant_latitude_int|Hotel_Id|          Hotel_name|Hotel_latitude|Hotel_longitude|Hotel_latitude_int|\n",
            "+-------------+--------------------+-------------------+--------------------+-----------------------+--------+--------------------+--------------+---------------+------------------+\n",
            "|         6071|Gourmet Pie and Cafe|         -42.118331|        -118.0396435|                    -42|    NULL|                NULL|          NULL|           NULL|              NULL|\n",
            "|        39741|  Brio Tuscan Grille|          26.003874|           -80.33781|                     26|   11656|Greenbriar Beach ...|       26.0002|        -80.117|                26|\n",
            "|        39741|  Brio Tuscan Grille|          26.003874|           -80.33781|                     26|   13063|     Richard's Motel|     26.000638|     -80.142609|                26|\n",
            "|        39741|  Brio Tuscan Grille|          26.003874|           -80.33781|                     26|   12639|       Manta Ray Inn|     26.000964|     -80.116674|                26|\n",
            "|        39741|  Brio Tuscan Grille|          26.003874|           -80.33781|                     26|   10569|Beach and Town Motel|     26.002401|     -80.142803|                26|\n",
            "|        39741|  Brio Tuscan Grille|          26.003874|           -80.33781|                     26|   13745|The Grand Palms R...|     26.007273|     -80.351097|                26|\n",
            "|        39741|  Brio Tuscan Grille|          26.003874|           -80.33781|                     26|   13366|    Southwinds Motel|     26.008744|     -80.117663|                26|\n",
            "|        39741|  Brio Tuscan Grille|          26.003874|           -80.33781|                     26|   12192|Hollywood by The ...|     26.009398|     -80.116215|                26|\n",
            "|        39741|  Brio Tuscan Grille|          26.003874|           -80.33781|                     26|   12947|Quality Inn and S...|     26.010023|     -80.192675|                26|\n",
            "|        39741|  Brio Tuscan Grille|          26.003874|           -80.33781|                     26|   11444|Econo Lodge Inn a...|       26.0104|     -80.192704|                26|\n",
            "|        39741|  Brio Tuscan Grille|          26.003874|           -80.33781|                     26|   13132|Ramada Inn Hollywood|     26.010506|     -80.145471|                26|\n",
            "|        39741|  Brio Tuscan Grille|          26.003874|           -80.33781|                     26|   12247|Hollywood Beach T...|     26.011297|      -80.11618|                26|\n",
            "|        39741|  Brio Tuscan Grille|          26.003874|           -80.33781|                     26|   13110|Residence Inn by ...|     26.012169|     -80.253887|                26|\n",
            "|        39741|  Brio Tuscan Grille|          26.003874|           -80.33781|                     26|   11759|Hollywood Gateway...|     26.012199|     -80.164755|                26|\n",
            "|        39741|  Brio Tuscan Grille|          26.003874|           -80.33781|                     26|   13102|Ramada Hollywood ...|     26.012943|     -80.117476|                26|\n",
            "|        39741|  Brio Tuscan Grille|          26.003874|           -80.33781|                     26|   12494|La Terrace 600 Pl...|     26.016105|     -80.115738|                26|\n",
            "|        39741|  Brio Tuscan Grille|          26.003874|           -80.33781|                     26|   13313|  Sun and Surf Motel|       26.0171|     -80.116482|                26|\n",
            "|        39741|  Brio Tuscan Grille|          26.003874|           -80.33781|                     26|   12528|Lincoln Manor Ret...|     26.017507|     -80.150583|                26|\n",
            "|        39741|  Brio Tuscan Grille|          26.003874|           -80.33781|                     26|   10420|       Angelfish Inn|     26.017705|      -80.11672|                26|\n",
            "|        39741|  Brio Tuscan Grille|          26.003874|           -80.33781|                     26|   13372|Sheldon Ocean Resort|     26.017749|    -80.1156496|                26|\n",
            "+-------------+--------------------+-------------------+--------------------+-----------------------+--------+--------------------+--------------+---------------+------------------+\n",
            "only showing top 20 rows\n",
            "\n"
          ]
        }
      ]
    },
    {
      "cell_type": "code",
      "source": [
        "joined_df.count()"
      ],
      "metadata": {
        "colab": {
          "base_uri": "https://localhost:8080/"
        },
        "id": "YeGOE036VkRN",
        "outputId": "fb688d58-054d-44c1-adef-88fb0662e623"
      },
      "execution_count": 31,
      "outputs": [
        {
          "output_type": "execute_result",
          "data": {
            "text/plain": [
              "130094027"
            ]
          },
          "metadata": {},
          "execution_count": 31
        }
      ]
    },
    {
      "cell_type": "markdown",
      "source": [
        "## Data Cleaning\n",
        "Drop the rows with nulls"
      ],
      "metadata": {
        "id": "bIJ0jCZypOhH"
      }
    },
    {
      "cell_type": "code",
      "source": [
        "joined_cleaned_df = joined_df.na.drop()"
      ],
      "metadata": {
        "id": "1GF8EUTPIu1s"
      },
      "execution_count": 32,
      "outputs": []
    },
    {
      "cell_type": "markdown",
      "source": [
        "## Find Haversine Distance"
      ],
      "metadata": {
        "id": "Zo4zqGbtp48P"
      }
    },
    {
      "cell_type": "code",
      "source": [
        "from pyspark.sql.functions import udf"
      ],
      "metadata": {
        "id": "2EJrIYaFGAKD"
      },
      "execution_count": 33,
      "outputs": []
    },
    {
      "cell_type": "code",
      "source": [
        "def haver(x,y,w,z):\n",
        "  return haversine((x,y),(w,z))"
      ],
      "metadata": {
        "id": "CAGZ2GLPFsoJ"
      },
      "execution_count": 34,
      "outputs": []
    },
    {
      "cell_type": "code",
      "source": [
        "udf_hav = udf(haver, DoubleType())"
      ],
      "metadata": {
        "id": "J-TI181nGGNd"
      },
      "execution_count": 35,
      "outputs": []
    },
    {
      "cell_type": "code",
      "source": [
        "haversine_df = joined_cleaned_df.withColumn('Haversine_distance', udf_hav('Restaurant_latitude', 'Restaurant_longitude','Hotel_latitude', 'Hotel_longitude'))"
      ],
      "metadata": {
        "id": "LMcLZP9HGRUT"
      },
      "execution_count": 36,
      "outputs": []
    },
    {
      "cell_type": "code",
      "source": [
        "haversine_df.show()"
      ],
      "metadata": {
        "colab": {
          "base_uri": "https://localhost:8080/"
        },
        "id": "ezcMeSVCHFlv",
        "outputId": "8a9bfb64-b4bd-415d-a7ac-e4805c58c10c"
      },
      "execution_count": 37,
      "outputs": [
        {
          "output_type": "stream",
          "name": "stdout",
          "text": [
            "+-------------+------------------+-------------------+--------------------+-----------------------+--------+--------------------+--------------+---------------+------------------+------------------+\n",
            "|Restaurant_Id|   Restaurant_name|Restaurant_latitude|Restaurant_longitude|Restaurant_latitude_int|Hotel_Id|          Hotel_name|Hotel_latitude|Hotel_longitude|Hotel_latitude_int|Haversine_distance|\n",
            "+-------------+------------------+-------------------+--------------------+-----------------------+--------+--------------------+--------------+---------------+------------------+------------------+\n",
            "|        39741|Brio Tuscan Grille|          26.003874|           -80.33781|                     26|   11656|Greenbriar Beach ...|       26.0002|        -80.117|                26|22.071473191652224|\n",
            "|        39741|Brio Tuscan Grille|          26.003874|           -80.33781|                     26|   13063|     Richard's Motel|     26.000638|     -80.142609|                26| 19.51161778579138|\n",
            "|        39741|Brio Tuscan Grille|          26.003874|           -80.33781|                     26|   12639|       Manta Ray Inn|     26.000964|     -80.116674|                26|22.102569190530748|\n",
            "|        39741|Brio Tuscan Grille|          26.003874|           -80.33781|                     26|   10569|Beach and Town Motel|     26.002401|     -80.142803|                26|19.489453331686132|\n",
            "|        39741|Brio Tuscan Grille|          26.003874|           -80.33781|                     26|   13745|The Grand Palms R...|     26.007273|     -80.351097|                26|1.3806007075364304|\n",
            "|        39741|Brio Tuscan Grille|          26.003874|           -80.33781|                     26|   13366|    Southwinds Motel|     26.008744|     -80.117663|                26|22.007295204408383|\n",
            "|        39741|Brio Tuscan Grille|          26.003874|           -80.33781|                     26|   12192|Hollywood by The ...|     26.009398|     -80.116215|                26|22.153794482843708|\n",
            "|        39741|Brio Tuscan Grille|          26.003874|           -80.33781|                     26|   12947|Quality Inn and S...|     26.010023|     -80.192675|                26|14.520254387743185|\n",
            "|        39741|Brio Tuscan Grille|          26.003874|           -80.33781|                     26|   11444|Econo Lodge Inn a...|       26.0104|     -80.192704|                26|14.519370980061295|\n",
            "|        39741|Brio Tuscan Grille|          26.003874|           -80.33781|                     26|   13132|Ramada Inn Hollywood|     26.010506|     -80.145471|                26| 19.23560626533141|\n",
            "|        39741|Brio Tuscan Grille|          26.003874|           -80.33781|                     26|   12247|Hollywood Beach T...|     26.011297|      -80.11618|                26| 22.16397077806619|\n",
            "|        39741|Brio Tuscan Grille|          26.003874|           -80.33781|                     26|   13110|Residence Inn by ...|     26.012169|     -80.253887|                26| 8.437382814693754|\n",
            "|        39741|Brio Tuscan Grille|          26.003874|           -80.33781|                     26|   11759|Hollywood Gateway...|     26.012199|     -80.164755|                26|17.318944531416868|\n",
            "|        39741|Brio Tuscan Grille|          26.003874|           -80.33781|                     26|   13102|Ramada Hollywood ...|     26.012943|     -80.117476|                26| 22.04200615550576|\n",
            "|        39741|Brio Tuscan Grille|          26.003874|           -80.33781|                     26|   12494|La Terrace 600 Pl...|     26.016105|     -80.115738|                26|22.233947779191286|\n",
            "|        39741|Brio Tuscan Grille|          26.003874|           -80.33781|                     26|   13313|  Sun and Surf Motel|       26.0171|     -80.116482|                26|  22.1667092613788|\n",
            "|        39741|Brio Tuscan Grille|          26.003874|           -80.33781|                     26|   12528|Lincoln Manor Ret...|     26.017507|     -80.150583|                26|18.771348906334918|\n",
            "|        39741|Brio Tuscan Grille|          26.003874|           -80.33781|                     26|   10420|       Angelfish Inn|     26.017705|      -80.11672|                26|22.147490771881394|\n",
            "|        39741|Brio Tuscan Grille|          26.003874|           -80.33781|                     26|   13372|Sheldon Ocean Resort|     26.017749|    -80.1156496|                26|22.254535790468733|\n",
            "|        39741|Brio Tuscan Grille|          26.003874|           -80.33781|                     26|   13388|      St Maurice Inn|      26.01819|     -80.116978|                26| 22.12553976902732|\n",
            "+-------------+------------------+-------------------+--------------------+-----------------------+--------+--------------------+--------------+---------------+------------------+------------------+\n",
            "only showing top 20 rows\n",
            "\n"
          ]
        }
      ]
    },
    {
      "cell_type": "markdown",
      "source": [
        "## Filter Dataframe With 0.5 or Less Haversine Distance"
      ],
      "metadata": {
        "id": "t96Z0aCrkW3k"
      }
    },
    {
      "cell_type": "code",
      "source": [
        "final_df = haversine_df.select(col('Restaurant_Id'), col('Restaurant_name'), col('Hotel_Id'), col('Hotel_name'), col('Haversine_distance')) \\\n",
        "                       .filter(col('Haversine_distance') < 0.5)"
      ],
      "metadata": {
        "id": "iw7x2dP5ppJD"
      },
      "execution_count": 38,
      "outputs": []
    },
    {
      "cell_type": "code",
      "source": [
        "final_df.show()"
      ],
      "metadata": {
        "colab": {
          "base_uri": "https://localhost:8080/"
        },
        "id": "EzMmndjy5lzS",
        "outputId": "67b1aa7d-0325-4a59-9469-d045d1d2d826"
      },
      "execution_count": 39,
      "outputs": [
        {
          "output_type": "stream",
          "name": "stdout",
          "text": [
            "+-------------+--------------------+--------+--------------------+-------------------+\n",
            "|Restaurant_Id|     Restaurant_name|Hotel_Id|          Hotel_name| Haversine_distance|\n",
            "+-------------+--------------------+--------+--------------------+-------------------+\n",
            "|        39601|Sal's Italian Ris...|   13745|The Grand Palms R...| 0.4534427636635714|\n",
            "|        34767|       Panda Express|   13745|The Grand Palms R...| 0.4382017571145667|\n",
            "|        40097|Big Tomato Market...|   13110|Residence Inn by ...| 0.4312599165175942|\n",
            "|        34261|    Chuck E Cheese's|   13110|Residence Inn by ...|0.44521219966749853|\n",
            "|        35341|Nami Japanese Res...|   13110|Residence Inn by ...|0.34898717289150877|\n",
            "|        37333|    New China Buffet|   13110|Residence Inn by ...| 0.3443114434543708|\n",
            "|        38570|Sushi-Thai On The...|   13366|    Southwinds Motel|0.20873294229953782|\n",
            "|        38570|Sushi-Thai On The...|   12192|Hollywood by The ...| 0.0472071636986774|\n",
            "|        38570|Sushi-Thai On The...|   12247|Hollywood Beach T...|0.18710371019113567|\n",
            "|        38570|Sushi-Thai On The...|   13102|Ramada Hollywood ...|0.40202286939672954|\n",
            "|        32743|          Piccadilly|   12947|Quality Inn and S...|  0.414539799764131|\n",
            "|        32743|          Piccadilly|   11444|Econo Lodge Inn a...|0.41621467099433845|\n",
            "|        35720|Mama Mia Italian ...|   13132|Ramada Inn Hollywood|0.18687740377042733|\n",
            "|        38569|Sushi Room /Resta...|   13132|Ramada Inn Hollywood|0.20489701374375963|\n",
            "|        33197|            Rickey's|   12947|Quality Inn and S...| 0.1102609354718736|\n",
            "|        33197|            Rickey's|   11444|Econo Lodge Inn a...|0.10533486213638499|\n",
            "|        35852|        Now Art Cafe|   13132|Ramada Inn Hollywood|0.18506551582354233|\n",
            "|        38588|        Tienda Vieja|   12947|Quality Inn and S...| 0.4689454310476411|\n",
            "|        38588|        Tienda Vieja|   11444|Econo Lodge Inn a...| 0.4693357718007403|\n",
            "|        38044|    Argentango Grill|   13132|Ramada Inn Hollywood|0.18303609686060013|\n",
            "+-------------+--------------------+--------+--------------------+-------------------+\n",
            "only showing top 20 rows\n",
            "\n"
          ]
        }
      ]
    }
  ]
}